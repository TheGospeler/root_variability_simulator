{
 "cells": [
  {
   "cell_type": "markdown",
   "metadata": {},
   "source": [
    "In order to successfully complete this assignment you must:\n",
    "1. Complete your project proposal\n",
    "2. The assignment must be submitted to the `milestones` folder in the `cmse802-yourlastname` repository on or before **10pm Wednesday 1/26**.  Late assignment will receive <=80% of the grade."
   ]
  },
  {
   "cell_type": "markdown",
   "metadata": {},
   "source": [
    "# <h1 style=\"font-size:3em\"><b><center>Geophysical Techniques and Modeling to Access Spatial Variability of Plant-Root Dynamics</center></b></h1>\n",
    "<center>By \"John SALAKO\"</center>"
   ]
  },
  {
   "cell_type": "markdown",
   "metadata": {},
   "source": [
    "<img src=\"https://i.ytimg.com/vi/2SRU_X4jh9w/maxresdefault.jpg\" width=\"100%\">\n",
    "\n",
    "[Link](https://i.ytimg.com/vi/2SRU_X4jh9w/maxresdefault.jpg)\n"
   ]
  },
  {
   "cell_type": "markdown",
   "metadata": {},
   "source": [
    "#  <center> OVERVIEW</center>\n",
    "\n",
    "---\n",
    "## Goal\n",
    "The growth of any plant is based on the interplay between the soil, climate, and other additional variable which includes the plant itself. Hence, Understanding the interactions of these individual components together with their interaction as elements move from one component to another in the ecosystem is of utmost importance. The root is an important factor in the growth of a plant, and it is responsible for the supply of water from the soil amongst other important factors. For several reasons, there are variations in plant rooting system ranging from the diversity of plants to the cultivars of same species.\n",
    "\n",
    "Surely, there must be an influence of the plant-root dynamics that determines the root spatial variation. Hence, having the foreknowledge of the mutual relationship between roots and plants, such as the plant suppling every necessity the atmosphere provides (such as energy-- from the conversion of sunlight via photosynthesis, while the roots supply water and nutrients to the plant in a continuous loop.\n",
    "\n",
    "Therefore, this project proposes to use novel geophysical methods and modeling techniques to quantify spatial variability of the plant-root and water dynamics.\n",
    "\n",
    "\n",
    "---\n",
    "## Motivation\n",
    "Precision agriculture being phenomena, state-of-the-art agricultural practices is begun to ascend in a monumental light, leading the modern agricultural practices of the twentieth century. The ability to use big data, modeling methods, and computational prowess to understand events and processes in various systems has led to several significant results. Models such as SALUS, HYDRUS, and other computational models integrate mathematical formulars with big data analysis and other processes to understand events and predicts outcomes, and their results are testaments of the viability of precision agriculture.\n",
    "\n",
    "We are therefore motivated by the need to harness these technological advantages in understanding several processes at the subsurface to a precise standpoint.\n",
    "\n",
    "---\n",
    "## Questions\n",
    "- Why do roots of plants (Trees) explore deeper? \n",
    "- what are the factors involved?\n",
    "- Is it soil, weather, canopy distribution?\n",
    "\n",
    "---\n",
    "## Previous Works\n",
    "- Basso et al. (2010) used Electrical Resistivity Tomography to create 2- Dimensional and Temporal Variation of Soil Physical Properties in Tillage Systems.\n",
    "- Kuhl et al. (2018) used Coupled Electrical Resistivity and soil water content measurements to reveal root water content measurements."
   ]
  },
  {
   "cell_type": "markdown",
   "metadata": {},
   "source": [
    "---\n",
    "# <center>Program Description</center>\n",
    "\n",
    "---\n",
    "## Workflow\n",
    "- Data Collection.\n",
    "- Process and convert the data to the appropriate units.\n",
    "- Commence coding relevant classes, functions, and importing relevant modules\n",
    "- Coding up the Electrical Resistivity inversion Tomography.\n",
    "- Testing and Visualizing output\n",
    "- Recalibrating and deducing possible outcomes relating to findings.\n",
    "\n",
    "---\n",
    "### Data Collection\n",
    "* Two major data are truly needed, which are weather data and the Electrical resistivity data.\n",
    "* The Focus for this project will be inverting the Electrical Resistivity data to create the Electrical Resistivity Tomography.\n",
    "    - Electrical Resistivity Tomography is an advanced geoelectrical technique that has the ability to monitor and measure subsurface conditions and processes across a range of materials and spatial scale monitor and measure subsurface conditions and processes across a range of materials and spatial scale (Basso et al., 2010).\n",
    "    - In more simpler terminologies, Electrical Resistivity Tomography geophysical tool used for mapping, imaging, and probing the structures below the ground surface using electrical resistivity measurement (Wiki, 2021).\n",
    "    - Via the resistivity data we can know what material is at the measured surface, and such information can be used to visualize the distribution of roots and elements.\n",
    "    - The resistance (in ohms) and the apparent resistivity (in ohms.m) are obtained from the ABEM Terrameter (A tool used to in the geophysical survey). The apparent resistivity is used for the electrical resistivity tomography. In cases, where the apparent resistivity is not given, It can be calculated by multiplying the resistance with known constraints.\n",
    "    - The constraints include the electrode spacing which is readily available.\n",
    "* Other data such as Weather data and necessary soil parameters will be outsourced.\n",
    "\n",
    "---\n",
    "## Data Processing and Conversion\n",
    "- Depending on the data obtained, necessary conversion to the appropriate unit will be done, which will be achieved by creating a function that will run through the data and make the necessary conversions.\n",
    "\n",
    "---\n",
    "## Electrical Resistivity Tomography (ERT)\n",
    "- Although, there are software available such as Res2DInv, for this project I am tasked at developing a forward or inversion algorithm that will image the subsurface using the apparent resistivity with depth.\n",
    "\n",
    "---\n",
    "## Testing and Visualizing output\n",
    "- Depending on the results obtained during the modeling and how it displays the root spatial variability in response to the depth of the water table, I would love to see if machine learning or other formidable algorithm can predict the spatial variability of the root in response to the water depth.\n",
    "- This research also should be a guide in determining what kind of plants or Tree to be planted given the water present in the field.\n"
   ]
  },
  {
   "cell_type": "markdown",
   "metadata": {},
   "source": [
    "---\n",
    "# Deliverables and Timeline"
   ]
  },
  {
   "cell_type": "markdown",
   "metadata": {},
   "source": [
    "---\n",
    "### Short-term Goals\n",
    "- Get the Electrical Resistivity data from respective department.\n",
    "- Process the data where necessary\n",
    "- Develop modules and function that produces the Electrical Resistivity Tomography\n",
    "\n",
    "\n",
    "---\n",
    "### Mid-term Goals\n",
    "- Run scenarios using the built model and visualize and analyze results.\n",
    "- Check and see the plausibility of the results.\n",
    "\n",
    "---\n",
    "### Long-term Goals\n",
    "- Learn formidable models and see if we can predict or forcast root spatial variability as a result of knowing the water dynamics from observations.\n",
    "- Incorporate the weather parameter if necessary or to better fine tune the model.\n",
    "\n",
    "---\n",
    "### Proposed Deliverable Dates\n",
    "- 01/26/2022 (Wed) - Proposal \n",
    "- 02/04/2022 (Fri) - Project git repository and structure \n",
    "- 02/18/2022 (Fri) - Stub functions and example code integration (With documentation)\n",
    "- 03/04/2022 (Fri) - Unit Test integrated into project\n",
    "- 03/25/2022 (Fri) - Code Draft (linting) \n",
    "- 04/08/2022 (Wed) - Code Draft (final structure)\n",
    "- 04/22/2022 (Wed) - Final project presentation file"
   ]
  },
  {
   "cell_type": "markdown",
   "metadata": {},
   "source": [
    "---\n",
    "# Anticipating Challenges  "
   ]
  },
  {
   "cell_type": "markdown",
   "metadata": {},
   "source": [
    "- Working with Machine Learning. I am currently at the surface in knowledge of Machine Learning, and I seek to learn sustainable tools I can use.\n",
    "- I am not currently familiar with the inversion technique and hope to learn on this before I commence coding my module."
   ]
  },
  {
   "cell_type": "markdown",
   "metadata": {},
   "source": [
    "---\n",
    "# References cited"
   ]
  },
  {
   "cell_type": "markdown",
   "metadata": {},
   "source": [
    "Basso, B., Amato, M., Bitella, G., Rossi, R., Kravchenko, A., Sartori, L., Carvahlo, L. M., & \n",
    "        Gomes, J. (2010). Two-dimensional spatial and temporal variation of soil physical \n",
    "        properties in tillage systems using electrical resistivity tomography. Agronomy Journal,\n",
    "        102(2), 440–449. https://doi.org/10.2134/agronj2009.0298\n",
    "\n",
    "Wikipedia. 2021.\"Electrical resistivity tomography\" Wikipedia Encyclopedia. Updated \n",
    "    December 21, 2021. https://en.wikipedia.org/wiki/Electrical_resistivity_tomography\n",
    "\n"
   ]
  },
  {
   "cell_type": "markdown",
   "metadata": {},
   "source": [
    "<font size=+3>&#9998;</font> __Instruction:__ Provide the list of references you have cited. Use a consistent style like [this](https://www.scribbr.com/chicago-style/author-date/)."
   ]
  },
  {
   "cell_type": "markdown",
   "metadata": {},
   "source": [
    "-----\n",
    "### Congratulations, you are done!\n",
    "\n",
    "Submit this report by uploading it to the `milestone` folder of your repository."
   ]
  },
  {
   "cell_type": "markdown",
   "metadata": {},
   "source": [
    "----\n",
    "\n",
    "# Appendix: Proposal Grading Rubric\n",
    "The following basic grading rubric was used last semester.  It may change slightly but should give an idea of what is considered important. \n",
    "\n",
    "    Grading Overall\n",
    "     5 points - Project title\n",
    "     5 points - Descriptive picture\n",
    "    20 points - Overview\n",
    "    30 points - Program Description\n",
    "    20 points - Project Goals / Timeline\n",
    "    15 points - Anticipating Challenges\n",
    "     5 points - Reference cited\n",
    "\n",
    "    Grading Rubric\n",
    "    -5 Leaving in instructions in report.\n",
    "    -5 Sloppy formatting\n",
    "    -5 missing required components in a section"
   ]
  }
 ],
 "metadata": {
  "anaconda-cloud": {},
  "kernelspec": {
   "display_name": "Python 3",
   "language": "python",
   "name": "python3"
  },
  "language_info": {
   "codemirror_mode": {
    "name": "ipython",
    "version": 3
   },
   "file_extension": ".py",
   "mimetype": "text/x-python",
   "name": "python",
   "nbconvert_exporter": "python",
   "pygments_lexer": "ipython3",
   "version": "3.8.8"
  }
 },
 "nbformat": 4,
 "nbformat_minor": 4
}
