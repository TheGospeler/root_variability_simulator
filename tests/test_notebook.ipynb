{
 "cells": [
  {
   "cell_type": "markdown",
   "id": "b8d830b3",
   "metadata": {},
   "source": [
    "# Test the modules to ensure the software doesn't break"
   ]
  },
  {
   "cell_type": "markdown",
   "id": "20162626",
   "metadata": {},
   "source": [
    "## The read_res_module"
   ]
  },
  {
   "cell_type": "code",
   "execution_count": 1,
   "id": "3c9e6638",
   "metadata": {},
   "outputs": [
    {
     "name": "stdout",
     "output_type": "stream",
     "text": [
      "\u001b[1m============================= test session starts ==============================\u001b[0m\n",
      "platform linux -- Python 3.10.2, pytest-7.0.1, pluggy-1.0.0\n",
      "rootdir: /home/johnsalako/Desktop/cmse802/root_variability_simulator/tests\n",
      "collected 3 items                                                              \u001b[0m\u001b[1m\n",
      "\n",
      "test_read_res.py \u001b[32m.\u001b[0m\u001b[32m.\u001b[0m\u001b[32m.\u001b[0m\u001b[33m                                                     [100%]\u001b[0m\n",
      "\n",
      "\u001b[33m======================== \u001b[32m3 passed\u001b[0m, \u001b[33m\u001b[1m15 warnings\u001b[0m\u001b[33m in 1.04s\u001b[0m\u001b[33m ========================\u001b[0m\n"
     ]
    }
   ],
   "source": [
    "!pytest --disable-pytest-warnings test_read_res.py"
   ]
  },
  {
   "cell_type": "markdown",
   "id": "6811c30c",
   "metadata": {},
   "source": [
    "## Sensitivity_build module"
   ]
  },
  {
   "cell_type": "code",
   "execution_count": 4,
   "id": "95ac735b",
   "metadata": {
    "scrolled": true
   },
   "outputs": [
    {
     "name": "stdout",
     "output_type": "stream",
     "text": [
      "\u001b[1m============================= test session starts ==============================\u001b[0m\n",
      "platform linux -- Python 3.10.2, pytest-7.0.1, pluggy-1.0.0\n",
      "rootdir: /home/johnsalako/Desktop/cmse802/root_variability_simulator/tests\n",
      "collected 2 items                                                              \u001b[0m\n",
      "\n",
      "test_sensitivity_build.py \u001b[32m.\u001b[0m\u001b[32m.\u001b[0m\u001b[32m                                             [100%]\u001b[0m\n",
      "\n",
      "\u001b[32m============================== \u001b[32m\u001b[1m2 passed\u001b[0m\u001b[32m in 0.17s\u001b[0m\u001b[32m ===============================\u001b[0m\n"
     ]
    }
   ],
   "source": [
    "!pytest test_sensitivity_build.py"
   ]
  },
  {
   "cell_type": "markdown",
   "id": "bd30c2f6",
   "metadata": {},
   "source": [
    "## root_simulator module"
   ]
  },
  {
   "cell_type": "code",
   "execution_count": 5,
   "id": "1367fd75",
   "metadata": {},
   "outputs": [
    {
     "name": "stdout",
     "output_type": "stream",
     "text": [
      "\u001b[1m============================= test session starts ==============================\u001b[0m\n",
      "platform linux -- Python 3.10.2, pytest-7.0.1, pluggy-1.0.0\n",
      "rootdir: /home/johnsalako/Desktop/cmse802/root_variability_simulator/tests\n",
      "collected 6 items                                                              \u001b[0m\u001b[1m\n",
      "\n",
      "test_root_simulator.py \u001b[32m.\u001b[0m\u001b[32m.\u001b[0m\u001b[32m.\u001b[0m\u001b[32m.\u001b[0m\u001b[32m.\u001b[0m\u001b[32m.\u001b[0m\u001b[33m                                            [100%]\u001b[0m\n",
      "\n",
      "\u001b[33m======================== \u001b[32m6 passed\u001b[0m, \u001b[33m\u001b[1m15 warnings\u001b[0m\u001b[33m in 1.23s\u001b[0m\u001b[33m ========================\u001b[0m\n"
     ]
    }
   ],
   "source": [
    "!pytest --disable-pytest-warnings test_root_simulator.py"
   ]
  },
  {
   "cell_type": "code",
   "execution_count": null,
   "id": "7cb14013",
   "metadata": {},
   "outputs": [],
   "source": []
  }
 ],
 "metadata": {
  "kernelspec": {
   "display_name": "Python [conda env:root_simulator]",
   "language": "python",
   "name": "conda-env-root_simulator-py"
  },
  "language_info": {
   "codemirror_mode": {
    "name": "ipython",
    "version": 3
   },
   "file_extension": ".py",
   "mimetype": "text/x-python",
   "name": "python",
   "nbconvert_exporter": "python",
   "pygments_lexer": "ipython3",
   "version": "3.10.2"
  }
 },
 "nbformat": 4,
 "nbformat_minor": 5
}
