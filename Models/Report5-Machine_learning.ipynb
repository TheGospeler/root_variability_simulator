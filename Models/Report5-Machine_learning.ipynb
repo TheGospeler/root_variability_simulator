{
 "cells": [
  {
   "cell_type": "markdown",
   "metadata": {},
   "source": [
    "In order to successfully complete this assignment you must:\n",
    "1. Follow the instruction below and connect how the introduced topics can connect to your research.\n",
    "2. The report due **10pm on Saturday** the week it is made available.\n",
    "3. The assignment must be submitted to the `reports` folders in the `cmse802-yourlastname` repository on or before the due date. Late assignment will receive <=80% of the grade."
   ]
  },
  {
   "cell_type": "markdown",
   "metadata": {},
   "source": [
    "# <center>__Using Machine Learning in Understanding Root Spatial Variability__</center>\n",
    "\n",
    "<center>by John SALAKO</center>"
   ]
  },
  {
   "cell_type": "markdown",
   "metadata": {},
   "source": [
    "---\n",
    "## What you have learend"
   ]
  },
  {
   "cell_type": "markdown",
   "metadata": {},
   "source": [
    "I have waited patiently for this aspect!\n",
    "\n",
    "Before now, I have been introduced to Machine Learning, and I must say that I was introduced as a person told to swim in the deepsea before practicing in the swimming pool😊. In all my practicing and learning of the usage of machine learning tools, I have always wondered how the prediction was being done.\n",
    "\n",
    "Well, in this class, I have learnt the foundation of Machine Learning Algorithm and the underlying mathematics involved. It is good to know that the data and label can be represented as `aX = b`, where 'b' is the predicted value or response variable, and where 'X' is the independent or controlled variable. Which implies that in the dimension under consideration, we can have several factors responsible for the output of another variable. Thus when we provide the machine learning algorithm with a dataset, it is able to estimate the 'b' by solving using linear algebra or other algorithms.\n",
    "\n",
    "For instance, using supervised learning, where we provide the label to predict, the algorithm sees the label as 'b', and all the input as 'X', and identifies a unifying 'a' such as given a test data with features represented as 'X's, the model can estimate 'b', by using the fitted and transformed 'aX'.\n",
    "\n",
    "Also, I have learnt the different visualization techchniques we use as a form of reconnaisance tasks before trying out the machine learning algorithm, such as univariate, multivariate, spearman's correlation amongst other summary statistics represented under the Exploratory Data Analysis (EDA).\n",
    "\n",
    "Thirdly, I have learnt the Machine learning workflow, which commences form stating the question and presenting such question as a machine learning problem, to performing EDA on the data collected, to splitting data to about 3/4 for training purposes (and validation), and the rest for testing purposes, mostly dependent on the size of the data.\n",
    "I have learnt the act of conducting Engineering features that produces the best modeling results.\n",
    "\n",
    "Lastly in this series, I have learnt how to use classification models and tools that evaluate the best model results. I am begining to learn more about these models using the docstring and the documentation online. I plan to look through all the concepts taught so far in this machine learning section to boost my understanding and familiarize myself with these models, as my interest is to become a Machine Learning expert."
   ]
  },
  {
   "cell_type": "markdown",
   "metadata": {},
   "source": [
    "-----\n",
    "### Congratulations, you are done! Submit your report!"
   ]
  }
 ],
 "metadata": {
  "anaconda-cloud": {},
  "kernelspec": {
   "display_name": "Python 3",
   "language": "python",
   "name": "python3"
  },
  "language_info": {
   "codemirror_mode": {
    "name": "ipython",
    "version": 3
   },
   "file_extension": ".py",
   "mimetype": "text/x-python",
   "name": "python",
   "nbconvert_exporter": "python",
   "pygments_lexer": "ipython3",
   "version": "3.8.8"
  }
 },
 "nbformat": 4,
 "nbformat_minor": 1
}
