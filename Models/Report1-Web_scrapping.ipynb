{
 "cells": [
  {
   "cell_type": "markdown",
   "metadata": {},
   "source": [
    "In order to successfully complete this assignment you must:\n",
    "1. Follow the instruction below and connect how the introduced topics can connect to your research.\n",
    "2. The report template is made available after a Thurday class and due two days after (**10pm on Saturday**).\n",
    "3. The assignment must be submitted to the `reports` folders in the `cmse802-yourlastname` repository on or before the due date. Late assignment will receive <=80% of the grade."
   ]
  },
  {
   "cell_type": "markdown",
   "metadata": {},
   "source": [
    "---\n",
    "# <center><b>Using web scrapping in Modeling Plant-root Dynamics</b></center>\n",
    "\n",
    "<center>by John SALAKO</center>"
   ]
  },
  {
   "cell_type": "markdown",
   "metadata": {},
   "source": [
    "---\n",
    "## What you have learned"
   ]
  },
  {
   "cell_type": "markdown",
   "metadata": {},
   "source": [
    "CMSE 802 has been a fantastic course so far.I have learnt some new concepts such as(Git, and running git commands), and solidifying some knowledge learnt, such as (Classes and Web scrapping).\n",
    "\n",
    "The Key point I have learnt so far in Web Scraping are:\n",
    "* Learning and mastering some regex functionalities and formating.\n",
    "* Use the requests Class\n",
    "* Conveniently deploy BeautifulSoup and it is functionalities.\n",
    "* Successfully extract tables and information from website.\n",
    "* Presented the data as seen on the website using pandas DataFrame."
   ]
  },
  {
   "cell_type": "markdown",
   "metadata": {},
   "source": [
    "---\n",
    "## How the approach can be applied"
   ]
  },
  {
   "cell_type": "markdown",
   "metadata": {},
   "source": [
    "#### I have not use this yet in my research.\n",
    "##### Possible Questions\n",
    "The climate plays an important factor in plants relating to plant growth. Such parameters mainly include, Sunlight, rainfall, and other soil moisture attributes; providing the necessary energy needed and water for the growth of plants. Hence, by accessing these weather parameters on different time scale and on a daily basis can help in predicting the plant growth, which also could be an indication to the spatial variability of roots of the same plants which is my topic of interest.\n",
    "\n",
    "Hence, plausible questions are:\n",
    "* What are the relationship between climate and Plant growth and/or roots?\n",
    "* Can we predict Weather parameter on short term and long term scale?\n",
    "* What management practices can we employ knowing future trend of the important climatic data?\n",
    "* For my research, after establishing a relationship between the roots of the plant/trees and the water depth via the analysis of the Electrical Resistivity Tomography, can we juxtapose the weather parameter and see any important relationship between the roots variability and the weather data or the water depth?\n",
    "\n",
    "##### Data Source\n",
    "The most appropriate source to get the data from will be from GeoData, NOAA, NASA, and from the field weather station where the resistivity values are obtained from.\n",
    "\n",
    "##### Developing Software\n",
    "* Automated Web scrapping software\n",
    "* In time past, people have used regression model (Stephen, 1982), and recently machine learning models (Christias and Mocanu, 2021)\n",
    "* I would have to create a software that can first visualize the tomography of the resistivity estimated or obtained, analyze the results and get the weather parameter in the location, where I can then used Machine Learning models to construct relationship and predictions."
   ]
  },
  {
   "cell_type": "markdown",
   "metadata": {},
   "source": [
    "---\n",
    "# References\n",
    "Stephan J. (1982) Forecasting Yields Using Weather-Related Indices. Texas Agricultural Experiment Station, Blacklands Research \n",
    "        Center, Temple, Texas. [link](https://www.nass.usda.gov/Education_and_Outreach/Reports,_Presentations_and_Conferences/Yield_Reports/Forecasting%20Yields%20Using%20Weather-Related%20Indices.pdf)\n",
    "\n",
    "\n",
    "Christias, P.; Mocanu, M. A Machine Learning Framework for Olive Farms Profit Prediction. Water 2021, 13, 3461. \n",
    "        https://doi.org/10.3390/w13233461\n"
   ]
  },
  {
   "cell_type": "markdown",
   "metadata": {},
   "source": [
    "-----\n",
    "### Congratulations, you are done!\n",
    "\n",
    "Now, you just need to submit this report by uploading it to the course <a href=\"https://d2l.msu.edu/\">Desire2Learn</a> web page for today's dropbox."
   ]
  },
  {
   "cell_type": "markdown",
   "metadata": {},
   "source": []
  }
 ],
 "metadata": {
  "anaconda-cloud": {},
  "kernelspec": {
   "display_name": "Python 3",
   "language": "python",
   "name": "python3"
  },
  "language_info": {
   "codemirror_mode": {
    "name": "ipython",
    "version": 3
   },
   "file_extension": ".py",
   "mimetype": "text/x-python",
   "name": "python",
   "nbconvert_exporter": "python",
   "pygments_lexer": "ipython3",
   "version": "3.8.8"
  }
 },
 "nbformat": 4,
 "nbformat_minor": 4
}
