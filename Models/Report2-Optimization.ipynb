{
 "cells": [
  {
   "cell_type": "markdown",
   "metadata": {},
   "source": [
    "In order to successfully complete this assignment you must:\n",
    "1. Follow the instruction below and connect how the introduced topics can connect to your research.\n",
    "2. The report template is made available after a Thurday class and due two days after (**10pm on Saturday**).\n",
    "3. The assignment must be submitted to the `reports` folders in the `cmse802-yourlastname` repository on or before the due date. Late assignment will receive <=80% of the grade."
   ]
  },
  {
   "cell_type": "markdown",
   "metadata": {},
   "source": [
    "# <center>__Using Optimization in Projecting Root Spatial Variability__</center>\n",
    "\n",
    "<center>by John SALAKO</center>"
   ]
  },
  {
   "cell_type": "markdown",
   "metadata": {},
   "source": [
    "---\n",
    "## What you have learend"
   ]
  },
  {
   "cell_type": "markdown",
   "metadata": {},
   "source": [
    "The optimization series (lecture, preclass assignment, and inclass assignment) has been an eye opener to the possibilities of prescribing a better input for the an optimal result / output.\n",
    "\n",
    "The following are the key items I have learnt:\n",
    "* Using Sympy and LaTex in printing properly formated mathematical Equation.\n",
    "* Introductory application of optimization approaches such as Brute Force Methods (used for smaller problems), Iterative method (Graident Descent), and Random methods (Monte Carlo).\n",
    "* Introduction to sophisticated libraries and submodules such as scipy, scipy.misc, scipy.optimize, skimage.io, Pil.image\n",
    "* Application of Optimization such as in curve fitting, obtaining the optimal parameters\n",
    "* Creating an environment in conda, activating, install packages in the created environment, and deactivating packages. A usefulness of this is to temporally use external modules for testing.\n",
    "* Finally, using optimization to prescibe the suitable risk and profitable margin for investment.\n",
    "\n",
    "In conclusion, I have learnt that optimization can help us in determining the best approach to a scenerio giving the major contributing constraints. Also, I have seen how scaling is applied from using optimization to determine the minimal value(s) in functions to appling optimization in real life scenerios.\n",
    "\n",
    "I have to keep practicing to upscale my knowledge in the applicability of the different available methods of optimization."
   ]
  },
  {
   "cell_type": "markdown",
   "metadata": {},
   "source": [
    "---\n",
    "## How the approach can be applied"
   ]
  },
  {
   "cell_type": "markdown",
   "metadata": {},
   "source": [
    "Optimization is best used at the prescriptive stage of modeling (Patricia, 2018)\n",
    "\n",
    "I think I can use optimization as a post-approach in prescribing factors that contribute to the root spatial variability in various location.\n",
    "\n",
    "Firstly, if I can find the relationship between root spatial variability and the water table (aquifer), then as a secondary study run simulation on different scenerios characterising the possible spatial variablity of roots given the constraints.\n",
    "\n",
    "PS: This is an hypothesis I hope I can practicalize and develop.\n",
    "\n",
    "\n",
    "Already, this optimization technique is being used in my lab using SALUS. "
   ]
  },
  {
   "cell_type": "markdown",
   "metadata": {},
   "source": [
    "---\n",
    "# References\n",
    "\n",
    "Patricia (2018). Mathematical Optimization in our Daily Lives. [Mathematical Optimization in Our Daily Lives](https://communities.sas.com/t5/SAS-Communities-Library/Mathematical-Optimization-in-our-Daily-Lives/ta-p/504724#:~:text=In%20our%20daily%20lives%2C%20we,%2C%20airline%20reservations%20systems%2C%20etc.)"
   ]
  },
  {
   "cell_type": "markdown",
   "metadata": {},
   "source": [
    "-----\n",
    "### Congratulations, you are done! Submit your report!"
   ]
  }
 ],
 "metadata": {
  "anaconda-cloud": {},
  "kernelspec": {
   "display_name": "Python 3",
   "language": "python",
   "name": "python3"
  },
  "language_info": {
   "codemirror_mode": {
    "name": "ipython",
    "version": 3
   },
   "file_extension": ".py",
   "mimetype": "text/x-python",
   "name": "python",
   "nbconvert_exporter": "python",
   "pygments_lexer": "ipython3",
   "version": "3.8.8"
  }
 },
 "nbformat": 4,
 "nbformat_minor": 4
}
