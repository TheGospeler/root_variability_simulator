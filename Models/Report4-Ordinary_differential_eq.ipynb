{
 "cells": [
  {
   "cell_type": "markdown",
   "metadata": {},
   "source": [
    "In order to successfully complete this assignment you must:\n",
    "1. Follow the instruction below and connect how the introduced topics can connect to your research.\n",
    "2. The report due **10pm on Saturday** the week it is made available.\n",
    "3. The assignment must be submitted to the `reports` folders in the `cmse802-yourlastname` repository on or before the due date. Late assignment will receive <=80% of the grade."
   ]
  },
  {
   "cell_type": "markdown",
   "metadata": {},
   "source": [
    "# <center>__Using ODEs in Simulating Root Growth__</center>\n",
    "\n",
    "<center>by John SALAKO</center>"
   ]
  },
  {
   "cell_type": "markdown",
   "metadata": {},
   "source": [
    "I have learnt how to model the effects of co-existing factors and/or variables in an environment, and how the influence of the dependent variables to the dependent variables changes with respect to time.\n",
    "\n",
    "In summary, I have learnt how to:\n",
    "* Define differential equation and apply differntial equations to modeling.\n",
    "* use an ordinary differential equation model and understand the impacts of the independent factors on the dependent factors. A case in point is the SIR epidemic model.\n",
    "* Simulate the rate of change of an environment or an event, which is very useful in prediction if the equation for the corresponding rate of change of each contributing factor are established.\n",
    "* Use grid search to optimize parameters.\n",
    "* Learnt the ArgParse library and theh Utility Suntax guidelines terminology.\n"
   ]
  },
  {
   "cell_type": "markdown",
   "metadata": {},
   "source": [
    "---\n",
    "## How the approach can be applied"
   ]
  },
  {
   "cell_type": "markdown",
   "metadata": {},
   "source": [
    "ODEs are interesting phenomenon that has been used to simulate several rates of changes in systems, such as the root zone, soil dynamics, and other specialized environment. Related to the area of my research, ODEs have been used in several studies including simulating water and nutrients uptake by the roots in the soil (Blengino Albrieu et al., 2015; Roose & Fowler, 2004) and simulating root growth and spatial variability (Dupuy et al., 2010). \n",
    "\n",
    "Athough, studies on root system growth began far back in the 1970s, a more active studies began recently in simulating and predicting root growth achitecture within soils. Dupuy et al., (2010), used the \"root density distributions as a function of individual root developmental parameters such as rates of lateral root initiation, elongation, mortality, and gravitropsm\".\n",
    "\n",
    "They were able to simultate the growth of roots efficiently in a discretized domains that deform as a result of growth, which is a characteristic of the ODE approach, and utilizes this model to simultate the growth of many interacting root system.\n",
    "\n",
    "I aim to study the denstity formular Dupuy et al. used, and further utilize this approach in visualizing and simulating the root spatial variability as a secondary approach in my research study areas."
   ]
  },
  {
   "cell_type": "markdown",
   "metadata": {},
   "source": [
    "---\n",
    "# References\n",
    "\n",
    "Blengino Albrieu, J. L., Reginato, J. C., & Tarzia, D. A. (2015). Modeling water uptake by a root system growing in a fixed soil volume. Applied Mathematical Modelling, 39(12), 3434–3447. https://doi.org/10.1016/j.apm.2014.11.042\n",
    "\n",
    "Dupuy, L., Gregory, P. J., & Bengough, A. G. (2010). Root growth models: Towards a new generation of continuous approaches. In Journal of Experimental Botany (Vol. 61, Issue 8, pp. 2131–2143). https://doi.org/10.1093/jxb/erp389\n",
    "\n",
    "Roose, T., & Fowler, A. C. (2004). A model for water uptake by plant roots. Journal of Theoretical Biology, 228(2), 155–171. https://doi.org/10.1016/j.jtbi.2003.12.012\n",
    " \n"
   ]
  },
  {
   "cell_type": "markdown",
   "metadata": {},
   "source": [
    "-----\n",
    "### Congratulations, you are done! Submit your report!"
   ]
  }
 ],
 "metadata": {
  "anaconda-cloud": {},
  "kernelspec": {
   "display_name": "Python 3",
   "language": "python",
   "name": "python3"
  },
  "language_info": {
   "codemirror_mode": {
    "name": "ipython",
    "version": 3
   },
   "file_extension": ".py",
   "mimetype": "text/x-python",
   "name": "python",
   "nbconvert_exporter": "python",
   "pygments_lexer": "ipython3",
   "version": "3.8.8"
  }
 },
 "nbformat": 4,
 "nbformat_minor": 1
}
