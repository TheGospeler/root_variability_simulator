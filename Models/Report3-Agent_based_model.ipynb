{
 "cells": [
  {
   "cell_type": "markdown",
   "metadata": {},
   "source": [
    "In order to successfully complete this assignment you must:\n",
    "1. Follow the instruction below and connect how the introduced topics can connect to your research.\n",
    "2. The report due **10pm on Saturday** the week it is made available.\n",
    "3. The assignment must be submitted to the `reports` folders in the `cmse802-yourlastname` repository on or before the due date. Late assignment will receive <=80% of the grade."
   ]
  },
  {
   "cell_type": "markdown",
   "metadata": {},
   "source": [
    "# <center>__Using Agent Based Models in Spatial Root Variability__</center>\n",
    "\n",
    "<center>by John SALAKO</center>"
   ]
  },
  {
   "cell_type": "markdown",
   "metadata": {},
   "source": [
    "---\n",
    "## What you have learend"
   ]
  },
  {
   "cell_type": "markdown",
   "metadata": {},
   "source": [
    "I have learnt on the modus operandi of the Agents-based model, comprising the independent agents interaction, and their interaction with the environment.\n",
    "\n",
    "In summary, I have learnt how to:\n",
    "* Represent different factors and connect their collective interactions and how their actions affect their environment, as seen in the ant-pheromone situation.\n",
    "* Use hands-on object oriented programming (OOP) to synergize the agent-based modeling approach.\n",
    "* Represent real phenomenon or operation using code to visualize and simulate events. I think this area appeals most to me."
   ]
  },
  {
   "cell_type": "markdown",
   "metadata": {},
   "source": [
    "---\n",
    "## How the approach can be applied"
   ]
  },
  {
   "cell_type": "markdown",
   "metadata": {},
   "source": [
    "Applying it directly to my research will not be feasible at this initial stage of my research. But agent based modeling will come very handy in terms of representation of my results. Knowing the factors responsible for root spatial variability is the initial stage of this project.\n",
    "\n",
    "Agent-based modeling will come very handy in simulating root spatial variabity after the dependencies are established. Once this dependencies are identified, then agent-based model will be initiated to simulate root spatial variability in different scales.\n",
    "\n",
    "Particularly, I like this visualization of events and interaction of the agents and the environment. Consequently, I can visualize the root spatial variation given the initial constraints responsible for the root growth and variation. I hope to make this work as this will yield to a spectacular result and a huge milestone for my research.\n",
    "\n",
    "Also, after looking at the examples present in the NetLogo, I discovered they were able to simulate percolation of oil into the soil given the constraints of the soil porosity, which is similar to using it in visualizing root spatial variability."
   ]
  },
  {
   "cell_type": "markdown",
   "metadata": {},
   "source": [
    "---\n",
    "# References\n",
    "\n",
    "[NetLogo](https://ccl.northwestern.edu/netlogo/) NetLogo--> Model Library --> Percolation"
   ]
  },
  {
   "cell_type": "markdown",
   "metadata": {},
   "source": [
    "-----\n",
    "### Congratulations, you are done! Submit your report!"
   ]
  }
 ],
 "metadata": {
  "anaconda-cloud": {},
  "kernelspec": {
   "display_name": "Python 3",
   "language": "python",
   "name": "python3"
  },
  "language_info": {
   "codemirror_mode": {
    "name": "ipython",
    "version": 3
   },
   "file_extension": ".py",
   "mimetype": "text/x-python",
   "name": "python",
   "nbconvert_exporter": "python",
   "pygments_lexer": "ipython3",
   "version": "3.8.8"
  }
 },
 "nbformat": 4,
 "nbformat_minor": 1
}
